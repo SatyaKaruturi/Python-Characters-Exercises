{
  "nbformat": 4,
  "nbformat_minor": 0,
  "metadata": {
    "colab": {
      "name": "Python et les chaînes de caractères_Satya.ipynb",
      "provenance": [],
      "collapsed_sections": []
    },
    "kernelspec": {
      "name": "python3",
      "display_name": "Python 3"
    }
  },
  "cells": [
    {
      "cell_type": "markdown",
      "metadata": {
        "id": "LoJw-LlCTnWF",
        "colab_type": "text"
      },
      "source": [
        "# Mission 1\n",
        "\n",
        "Crée une fonction qui utilise la méthode len pour afficher la taille de la chaine de caractères \"chaine\" ci-dessous.\n",
        "\n",
        "Fait en sorte que le nombre de caractères renvoyé par la fonction ne tienne pas compte du nombre d'espaces (sans modifier la chaîne).\n",
        "\n",
        "chaine = \" Taumata whakatangihanga koauau o tamatea turi pukaka piki maungah oronuku pokai whenuaki tanatahu \""
      ]
    },
    {
      "cell_type": "code",
      "metadata": {
        "id": "C2Lk113KSPUO",
        "colab_type": "code",
        "outputId": "923d919e-c2ee-459b-820d-a9b080709f53",
        "colab": {
          "base_uri": "https://localhost:8080/",
          "height": 34
        }
      },
      "source": [
        "def sentence_size(chaine):\n",
        "  return(len(chaine) - chaine.count(' '))\n",
        "sentence_size(\"Taumata whakatangihanga koauau o tamatea turi pukaka piki maungah oronuku pokai whenuaki tanatahu\")"
      ],
      "execution_count": 0,
      "outputs": [
        {
          "output_type": "execute_result",
          "data": {
            "text/plain": [
              "85"
            ]
          },
          "metadata": {
            "tags": []
          },
          "execution_count": 4
        }
      ]
    },
    {
      "cell_type": "markdown",
      "metadata": {
        "id": "J3bsGIvAT049",
        "colab_type": "text"
      },
      "source": [
        "# Mission 2\n",
        "\n",
        "Crée une fonction qui prend en paramètre une chaîne de caractère d'une part et un caractère d'autre part. La fonction renvoie les positions (en commançant par 1 et non pas 0) de toutes les occurences du caractère.\n",
        "\n",
        "Par exemple pour le mot \"bonjour\" et pour le caractère \"o\" la fonction renverra :\n",
        "- \"position : 2\"\n",
        "- \"position : 5\""
      ]
    },
    {
      "cell_type": "code",
      "metadata": {
        "id": "Fy1OmPSUXNaP",
        "colab_type": "code",
        "outputId": "a0ee7bb9-6a8e-4bc7-9b3d-dba5c77958ad",
        "colab": {
          "base_uri": "https://localhost:8080/",
          "height": 50
        }
      },
      "source": [
        "def position(my_string, letter):\n",
        "  \n",
        "  for i in range(len(my_string)):\n",
        "   if my_string[i] == letter:\n",
        "    count = i + 1\n",
        "    print(\"position: {}\".format(count))  \n",
        "    i += 1\n",
        "position(\"bonjour\", 'o')\n",
        "    "
      ],
      "execution_count": 0,
      "outputs": [
        {
          "output_type": "stream",
          "text": [
            "position: 2\n",
            "position: 5\n"
          ],
          "name": "stdout"
        }
      ]
    },
    {
      "cell_type": "markdown",
      "metadata": {
        "id": "dVl36lvlWLdV",
        "colab_type": "text"
      },
      "source": [
        "# Mission 3\n",
        "\n",
        "Crée une fonction qui affiche les caractères de la position x exclu à la position y exclu. Autrement dit, on décide de la plage de caractère à afficher."
      ]
    },
    {
      "cell_type": "code",
      "metadata": {
        "id": "pN3_mD4YSPfb",
        "colab_type": "code",
        "outputId": "5e5750d0-b2a5-46cb-bab9-02b5904f6617",
        "colab": {
          "base_uri": "https://localhost:8080/",
          "height": 34
        }
      },
      "source": [
        "my_string = \"Hello\"\n",
        "def my_position(my_string, x, y):\n",
        "  for i in range(x, y-1):\n",
        "    print(my_string[i], end=\"\")\n",
        "my_position(my_string, 1, 5)\n",
        "  "
      ],
      "execution_count": 0,
      "outputs": [
        {
          "output_type": "stream",
          "text": [
            "ell"
          ],
          "name": "stdout"
        }
      ]
    },
    {
      "cell_type": "markdown",
      "metadata": {
        "id": "GCvpkWzXXPTf",
        "colab_type": "text"
      },
      "source": [
        "# Mission 4\n",
        "\n",
        "Trouve 3 moyens de renvoyer la chaîne de caractères ci-après sans les espaces au début et à la fin (sans modifier la chaîne) : \" Data Analyst \""
      ]
    },
    {
      "cell_type": "code",
      "metadata": {
        "id": "QjLMjogySPk_",
        "colab_type": "code",
        "outputId": "a1be9f25-4453-4b2d-d085-2b7e5262a92a",
        "colab": {
          "base_uri": "https://localhost:8080/",
          "height": 34
        }
      },
      "source": [
        "string1 = \" Data Analyst \"\n",
        "\n",
        "string1[1:-1]"
      ],
      "execution_count": 0,
      "outputs": [
        {
          "output_type": "execute_result",
          "data": {
            "text/plain": [
              "'Data Analyst'"
            ]
          },
          "metadata": {
            "tags": []
          },
          "execution_count": 14
        }
      ]
    },
    {
      "cell_type": "code",
      "metadata": {
        "id": "h6U1gorL6Plv",
        "colab_type": "code",
        "outputId": "50e4cb63-b70f-46a0-a195-4d4df3e628b6",
        "colab": {
          "base_uri": "https://localhost:8080/",
          "height": 34
        }
      },
      "source": [
        "\" \".join(string1.split())"
      ],
      "execution_count": 0,
      "outputs": [
        {
          "output_type": "execute_result",
          "data": {
            "text/plain": [
              "'Data Analyst'"
            ]
          },
          "metadata": {
            "tags": []
          },
          "execution_count": 23
        }
      ]
    },
    {
      "cell_type": "code",
      "metadata": {
        "id": "dpfzriM05WN6",
        "colab_type": "code",
        "outputId": "5f4327f4-ecee-4ce5-a7bc-371957361e9a",
        "colab": {
          "base_uri": "https://localhost:8080/",
          "height": 34
        }
      },
      "source": [
        "string1.strip()"
      ],
      "execution_count": 0,
      "outputs": [
        {
          "output_type": "execute_result",
          "data": {
            "text/plain": [
              "'Data Analyst'"
            ]
          },
          "metadata": {
            "tags": []
          },
          "execution_count": 18
        }
      ]
    },
    {
      "cell_type": "markdown",
      "metadata": {
        "id": "V8ZS3aECXvuZ",
        "colab_type": "text"
      },
      "source": [
        "# Mission 5\n",
        "\n",
        "Crée une fonction qui convertie les voyelles en majuscule et les consonnes en minuscule."
      ]
    },
    {
      "cell_type": "code",
      "metadata": {
        "id": "ph_j97PoSPmU",
        "colab_type": "code",
        "outputId": "961b1660-f7c4-48be-f5d5-dbd7b45986a6",
        "colab": {
          "base_uri": "https://localhost:8080/",
          "height": 50
        }
      },
      "source": [
        "def large_small(Voyelles, consonnes):\n",
        "  \n",
        "    print(Voyelles.upper())\n",
        "\n",
        "    print(consonnes.lower())\n",
        "    \n",
        "Voyelles1 = \"aeiouy\"\n",
        "consonnes1 = \"BCDFGHJKLMNPQRSTVWXZ\"\n",
        "large_small(Voyelles1, consonnes1)"
      ],
      "execution_count": 0,
      "outputs": [
        {
          "output_type": "stream",
          "text": [
            "AEIOUY\n",
            "bcdfghjklmnpqrstvwxz\n"
          ],
          "name": "stdout"
        }
      ]
    },
    {
      "cell_type": "markdown",
      "metadata": {
        "id": "geMLdrvAYHKx",
        "colab_type": "text"
      },
      "source": [
        "# Mission 6\n",
        "\n",
        "Crée une fonction qui remplace un caractère par un autre et réaffiche la chaîne de caractère modifiée."
      ]
    },
    {
      "cell_type": "code",
      "metadata": {
        "id": "1-cenx3RSPpq",
        "colab_type": "code",
        "outputId": "50a30e5f-ea1b-4c04-84ef-d1c15c40c3c2",
        "colab": {
          "base_uri": "https://localhost:8080/",
          "height": 34
        }
      },
      "source": [
        "def my_replace(my_string, letter, letter_rep):\n",
        "  \n",
        "    my_string = my_string.replace(letter_rep, letter)\n",
        "    return(my_string)\n",
        "  \n",
        "my_replace(\"Hellb\", 'o', 'b')\n",
        "\n",
        "    "
      ],
      "execution_count": 0,
      "outputs": [
        {
          "output_type": "execute_result",
          "data": {
            "text/plain": [
              "'Hello'"
            ]
          },
          "metadata": {
            "tags": []
          },
          "execution_count": 8
        }
      ]
    }
  ]
}